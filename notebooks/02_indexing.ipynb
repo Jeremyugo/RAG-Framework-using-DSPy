{
 "cells": [
  {
   "cell_type": "markdown",
   "metadata": {},
   "source": [
    "## Retrieval model Indexing\n",
    "\n",
    "In this notebook, using the trained retrieval model, we'll build an index from our documents (i.e wikipedia data)"
   ]
  },
  {
   "cell_type": "code",
   "execution_count": 1,
   "metadata": {},
   "outputs": [
    {
     "name": "stdout",
     "output_type": "stream",
     "text": [
      "No CUDA runtime is found, using CUDA_HOME='/usr'\n"
     ]
    }
   ],
   "source": [
    "# importing packages\n",
    "from ragatouille import RAGPretrainedModel\n",
    "import requests"
   ]
  },
  {
   "cell_type": "code",
   "execution_count": 2,
   "metadata": {},
   "outputs": [
    {
     "name": "stderr",
     "output_type": "stream",
     "text": [
      "/home/ubuntu/miniconda3/envs/dspy/lib/python3.9/site-packages/huggingface_hub/file_download.py:1132: FutureWarning: `resume_download` is deprecated and will be removed in version 1.0.0. Downloads always resume when possible. If you want to force a new download, use `force_download=True`.\n",
      "  warnings.warn(\n"
     ]
    },
    {
     "name": "stdout",
     "output_type": "stream",
     "text": [
      "[May 13, 01:45:11] Loading segmented_maxsim_cpp extension (set COLBERT_LOAD_TORCH_EXTENSION_VERBOSE=True for more info)...\n"
     ]
    },
    {
     "name": "stderr",
     "output_type": "stream",
     "text": [
      "/home/ubuntu/miniconda3/envs/dspy/lib/python3.9/site-packages/torch/cuda/amp/grad_scaler.py:115: UserWarning: torch.cuda.amp.GradScaler is enabled, but CUDA is not available.  Disabling.\n",
      "  warnings.warn(\"torch.cuda.amp.GradScaler is enabled, but CUDA is not available.  Disabling.\")\n"
     ]
    }
   ],
   "source": [
    "#loading the pretrained colbert retrieval model\n",
    "RAG = RAGPretrainedModel.from_pretrained(\"colbert-ir/colbertv2.0\")"
   ]
  },
  {
   "cell_type": "code",
   "execution_count": 3,
   "metadata": {},
   "outputs": [],
   "source": [
    "# getting data from wikipedia using the API\n",
    "def get_wikipedia_page(title: str):\n",
    "    \"\"\"\n",
    "    Retrieve the full text content of a Wikipedia page.\n",
    "    \n",
    "    :param title: str - Title of the Wikipedia page.\n",
    "    :return: str - Full text content of the page as raw string.\n",
    "    \"\"\"\n",
    "    # Wikipedia API endpoint\n",
    "    URL = \"https://en.wikipedia.org/w/api.php\"\n",
    "\n",
    "    # Parameters for the API request\n",
    "    params = {\n",
    "        \"action\": \"query\",\n",
    "        \"format\": \"json\",\n",
    "        \"titles\": title,\n",
    "        \"prop\": \"extracts\",\n",
    "        \"explaintext\": True,\n",
    "    }\n",
    "\n",
    "    # Custom User-Agent header to comply with Wikipedia's best practices\n",
    "    headers = {\n",
    "        \"User-Agent\": \"RAGatouille_tutorial/0.0.1 (ben@clavie.eu)\"\n",
    "    }\n",
    "\n",
    "    response = requests.get(URL, params=params, headers=headers)\n",
    "    data = response.json()\n",
    "\n",
    "    # Extracting page content\n",
    "    page = next(iter(data['query']['pages'].values()))\n",
    "    return page['extract'] if 'extract' in page else None"
   ]
  },
  {
   "cell_type": "code",
   "execution_count": 4,
   "metadata": {},
   "outputs": [],
   "source": [
    "# getting the data\n",
    "mu_corpus = get_wikipedia_page('Manchester United F.C.') \n",
    "other_docs = [get_wikipedia_page('Manchester City F.C.'), get_wikipedia_page('Arsenal F.C.'), get_wikipedia_page('Chelsea F.C.'), get_wikipedia_page('Tottenham Hotspur F.C.'), get_wikipedia_page('Liverpool F.C.'), get_wikipedia_page('Premier League')]"
   ]
  },
  {
   "cell_type": "code",
   "execution_count": 5,
   "metadata": {},
   "outputs": [
    {
     "name": "stdout",
     "output_type": "stream",
     "text": [
      "\n",
      "\n",
      "[May 13, 01:45:18] #> Note: Output directory .ragatouille/colbert/indexes/EPL already exists\n",
      "\n",
      "\n",
      "[May 13, 01:45:18] #> Will delete 1 files already at .ragatouille/colbert/indexes/EPL in 20 seconds...\n"
     ]
    },
    {
     "name": "stderr",
     "output_type": "stream",
     "text": [
      "/home/ubuntu/miniconda3/envs/dspy/lib/python3.9/site-packages/huggingface_hub/file_download.py:1132: FutureWarning: `resume_download` is deprecated and will be removed in version 1.0.0. Downloads always resume when possible. If you want to force a new download, use `force_download=True`.\n",
      "  warnings.warn(\n"
     ]
    },
    {
     "name": "stdout",
     "output_type": "stream",
     "text": [
      "[May 13, 01:45:39] [0] \t\t #> Encoding 91 passages..\n"
     ]
    },
    {
     "name": "stderr",
     "output_type": "stream",
     "text": [
      "  0%|          | 0/3 [00:00<?, ?it/s]/home/ubuntu/miniconda3/envs/dspy/lib/python3.9/site-packages/torch/autocast_mode.py:162: UserWarning: User provided device_type of 'cuda', but CUDA is not available. Disabling\n",
      "  warnings.warn('User provided device_type of \\'cuda\\', but CUDA is not available. Disabling')\n",
      "100%|██████████| 3/3 [00:35<00:00, 11.67s/it]"
     ]
    },
    {
     "name": "stdout",
     "output_type": "stream",
     "text": [
      "[May 13, 01:46:14] [0] \t\t avg_doclen_est = 125.38461303710938 \t len(local_sample) = 91\n",
      "[May 13, 01:46:14] [0] \t\t Creating 1,024 partitions.\n",
      "[May 13, 01:46:14] [0] \t\t *Estimated* 11,409 embeddings.\n",
      "[May 13, 01:46:14] [0] \t\t #> Saving the indexing plan to .ragatouille/colbert/indexes/EPL/plan.json ..\n"
     ]
    },
    {
     "name": "stderr",
     "output_type": "stream",
     "text": [
      "\n",
      "WARNING clustering 10840 points to 1024 centroids: please provide at least 39936 training points\n"
     ]
    },
    {
     "name": "stdout",
     "output_type": "stream",
     "text": [
      "Clustering 10840 points in 128D to 1024 clusters, redo 1 times, 20 iterations\n",
      "  Preprocessing in 0.00 s\n",
      "  Iteration 19 (0.53 s, search 0.50 s): objective=2343.59 imbalance=1.439 nsplit=0       \n",
      "[0.039, 0.044, 0.037, 0.033, 0.038, 0.043, 0.035, 0.038, 0.035, 0.036, 0.031, 0.038, 0.037, 0.038, 0.036, 0.037, 0.029, 0.036, 0.034, 0.037, 0.036, 0.041, 0.036, 0.036, 0.038, 0.037, 0.036, 0.039, 0.036, 0.039, 0.038, 0.04, 0.042, 0.034, 0.038, 0.035, 0.038, 0.041, 0.04, 0.041, 0.038, 0.032, 0.036, 0.034, 0.037, 0.037, 0.034, 0.036, 0.038, 0.036, 0.035, 0.036, 0.035, 0.035, 0.039, 0.037, 0.042, 0.039, 0.039, 0.035, 0.036, 0.041, 0.038, 0.036, 0.04, 0.037, 0.038, 0.036, 0.034, 0.037, 0.038, 0.036, 0.039, 0.034, 0.037, 0.037, 0.034, 0.042, 0.037, 0.036, 0.038, 0.035, 0.038, 0.037, 0.034, 0.037, 0.038, 0.038, 0.036, 0.038, 0.036, 0.039, 0.036, 0.037, 0.035, 0.038, 0.041, 0.036, 0.035, 0.036, 0.04, 0.04, 0.038, 0.039, 0.037, 0.036, 0.036, 0.033, 0.039, 0.036, 0.038, 0.035, 0.037, 0.03, 0.037, 0.036, 0.037, 0.037, 0.037, 0.036, 0.036, 0.035, 0.033, 0.039, 0.032, 0.033, 0.037, 0.035]\n"
     ]
    },
    {
     "name": "stderr",
     "output_type": "stream",
     "text": [
      "0it [00:00, ?it/s]"
     ]
    },
    {
     "name": "stdout",
     "output_type": "stream",
     "text": [
      "[May 13, 01:46:15] [0] \t\t #> Encoding 91 passages..\n"
     ]
    },
    {
     "name": "stderr",
     "output_type": "stream",
     "text": [
      "100%|██████████| 3/3 [00:34<00:00, 11.34s/it]\n",
      "1it [00:34, 34.14s/it]\n",
      "100%|██████████| 1/1 [00:00<00:00, 988.76it/s]"
     ]
    },
    {
     "name": "stdout",
     "output_type": "stream",
     "text": [
      "[May 13, 01:46:49] #> Optimizing IVF to store map from centroids to list of pids..\n",
      "[May 13, 01:46:49] #> Building the emb2pid mapping..\n",
      "[May 13, 01:46:49] len(emb2pid) = 11410\n"
     ]
    },
    {
     "name": "stderr",
     "output_type": "stream",
     "text": [
      "\n",
      "100%|██████████| 1024/1024 [00:00<00:00, 122625.76it/s]"
     ]
    },
    {
     "name": "stdout",
     "output_type": "stream",
     "text": [
      "[May 13, 01:46:49] #> Saved optimized IVF to .ragatouille/colbert/indexes/EPL/ivf.pid.pt\n",
      "Done indexing!\n"
     ]
    },
    {
     "name": "stderr",
     "output_type": "stream",
     "text": [
      "\n"
     ]
    },
    {
     "data": {
      "text/plain": [
       "'.ragatouille/colbert/indexes/EPL'"
      ]
     },
     "execution_count": 5,
     "metadata": {},
     "output_type": "execute_result"
    }
   ],
   "source": [
    "# creating the index\n",
    "RAG.index(\n",
    "    collection=[mu_corpus], \n",
    "    document_ids=['EPL'],\n",
    "    document_metadatas=[{\"entity\": \"organization\", \"source\": \"wikipedia\"}],\n",
    "    index_name=\"EPL\", \n",
    "    max_document_length=180, \n",
    "    split_documents=True,\n",
    "    use_faiss=True,\n",
    "    )"
   ]
  },
  {
   "cell_type": "markdown",
   "metadata": {},
   "source": [
    "### Updating the index"
   ]
  },
  {
   "cell_type": "code",
   "execution_count": 6,
   "metadata": {},
   "outputs": [
    {
     "name": "stdout",
     "output_type": "stream",
     "text": [
      "WARNING: add_to_index support is currently experimental! add_to_index support will be more thorough in future versions\n",
      "[May 13, 01:47:02] #> Loading codec...\n",
      "[May 13, 01:47:02] #> Loading IVF...\n",
      "[May 13, 01:47:02] Loading segmented_lookup_cpp extension (set COLBERT_LOAD_TORCH_EXTENSION_VERBOSE=True for more info)...\n",
      "[May 13, 01:47:03] #> Loading doclens...\n"
     ]
    },
    {
     "name": "stderr",
     "output_type": "stream",
     "text": [
      "100%|██████████| 1/1 [00:00<00:00, 4644.85it/s]"
     ]
    },
    {
     "name": "stdout",
     "output_type": "stream",
     "text": [
      "[May 13, 01:47:03] #> Loading codes and residuals...\n"
     ]
    },
    {
     "name": "stderr",
     "output_type": "stream",
     "text": [
      "\n",
      "100%|██████████| 1/1 [00:00<00:00, 253.97it/s]"
     ]
    },
    {
     "name": "stdout",
     "output_type": "stream",
     "text": [
      "[May 13, 01:47:03] Loading filter_pids_cpp extension (set COLBERT_LOAD_TORCH_EXTENSION_VERBOSE=True for more info)...\n"
     ]
    },
    {
     "name": "stderr",
     "output_type": "stream",
     "text": [
      "\n"
     ]
    },
    {
     "name": "stdout",
     "output_type": "stream",
     "text": [
      "[May 13, 01:47:03] Loading decompress_residuals_cpp extension (set COLBERT_LOAD_TORCH_EXTENSION_VERBOSE=True for more info)...\n",
      "---- WARNING! You are using PLAID with an experimental replacement for FAISS for greater compatibility ----\n",
      "This is a behaviour change from RAGatouille 0.8.0 onwards.\n",
      "This works fine for most users and smallish datasets, but can be considerably slower than FAISS and could cause worse results in some situations.\n",
      "If you're confident with FAISS working on your machine, pass use_faiss=True to revert to the FAISS-using behaviour.\n",
      "--------------------\n",
      "\n",
      "\n",
      "[May 13, 01:47:03] #> Note: Output directory .ragatouille/colbert/indexes/EPL already exists\n",
      "\n",
      "\n"
     ]
    },
    {
     "name": "stderr",
     "output_type": "stream",
     "text": [
      "/home/ubuntu/miniconda3/envs/dspy/lib/python3.9/site-packages/huggingface_hub/file_download.py:1132: FutureWarning: `resume_download` is deprecated and will be removed in version 1.0.0. Downloads always resume when possible. If you want to force a new download, use `force_download=True`.\n",
      "  warnings.warn(\n"
     ]
    },
    {
     "name": "stdout",
     "output_type": "stream",
     "text": [
      "[May 13, 01:47:04] [0] \t\t #> Encoding 574 passages..\n"
     ]
    },
    {
     "name": "stderr",
     "output_type": "stream",
     "text": [
      "/home/ubuntu/miniconda3/envs/dspy/lib/python3.9/site-packages/torch/cuda/amp/grad_scaler.py:115: UserWarning: torch.cuda.amp.GradScaler is enabled, but CUDA is not available.  Disabling.\n",
      "  warnings.warn(\"torch.cuda.amp.GradScaler is enabled, but CUDA is not available.  Disabling.\")\n",
      "  0%|          | 0/18 [00:00<?, ?it/s]/home/ubuntu/miniconda3/envs/dspy/lib/python3.9/site-packages/torch/autocast_mode.py:162: UserWarning: User provided device_type of 'cuda', but CUDA is not available. Disabling\n",
      "  warnings.warn('User provided device_type of \\'cuda\\', but CUDA is not available. Disabling')\n",
      "100%|██████████| 18/18 [03:40<00:00, 12.27s/it]"
     ]
    },
    {
     "name": "stdout",
     "output_type": "stream",
     "text": [
      "[May 13, 01:50:45] [0] \t\t avg_doclen_est = 128.39547729492188 \t len(local_sample) = 574\n",
      "[May 13, 01:50:45] [0] \t\t Creating 4,096 partitions.\n",
      "[May 13, 01:50:45] [0] \t\t *Estimated* 73,699 embeddings.\n",
      "[May 13, 01:50:45] [0] \t\t #> Saving the indexing plan to .ragatouille/colbert/indexes/EPL/plan.json ..\n"
     ]
    },
    {
     "name": "stderr",
     "output_type": "stream",
     "text": [
      "\n"
     ]
    },
    {
     "name": "stdout",
     "output_type": "stream",
     "text": [
      "used 20 iterations (83.6058s) to cluster 70015 items into 4096 clusters\n",
      "[0.035, 0.037, 0.037, 0.032, 0.035, 0.035, 0.032, 0.032, 0.032, 0.034, 0.032, 0.033, 0.033, 0.037, 0.034, 0.035, 0.028, 0.034, 0.033, 0.034, 0.034, 0.036, 0.035, 0.033, 0.033, 0.033, 0.033, 0.034, 0.033, 0.034, 0.036, 0.034, 0.04, 0.032, 0.034, 0.032, 0.035, 0.036, 0.035, 0.038, 0.036, 0.032, 0.034, 0.033, 0.036, 0.033, 0.031, 0.035, 0.036, 0.032, 0.033, 0.033, 0.033, 0.032, 0.034, 0.034, 0.039, 0.037, 0.04, 0.032, 0.032, 0.036, 0.034, 0.034, 0.035, 0.035, 0.034, 0.034, 0.032, 0.034, 0.034, 0.031, 0.033, 0.035, 0.035, 0.034, 0.033, 0.036, 0.034, 0.036, 0.036, 0.035, 0.036, 0.035, 0.033, 0.035, 0.036, 0.037, 0.034, 0.036, 0.034, 0.036, 0.034, 0.036, 0.033, 0.036, 0.038, 0.033, 0.033, 0.036, 0.035, 0.039, 0.035, 0.036, 0.034, 0.033, 0.033, 0.034, 0.036, 0.033, 0.034, 0.035, 0.035, 0.033, 0.034, 0.034, 0.033, 0.035, 0.036, 0.033, 0.032, 0.032, 0.033, 0.035, 0.031, 0.03, 0.034, 0.035]\n"
     ]
    },
    {
     "name": "stderr",
     "output_type": "stream",
     "text": [
      "0it [00:00, ?it/s]"
     ]
    },
    {
     "name": "stdout",
     "output_type": "stream",
     "text": [
      "[May 13, 01:52:09] [0] \t\t #> Encoding 574 passages..\n"
     ]
    },
    {
     "name": "stderr",
     "output_type": "stream",
     "text": [
      "100%|██████████| 18/18 [03:31<00:00, 11.75s/it]\n",
      "1it [03:34, 214.15s/it]\n",
      "100%|██████████| 1/1 [00:00<00:00, 562.62it/s]"
     ]
    },
    {
     "name": "stdout",
     "output_type": "stream",
     "text": [
      "[May 13, 01:55:43] #> Optimizing IVF to store map from centroids to list of pids..\n",
      "[May 13, 01:55:43] #> Building the emb2pid mapping..\n",
      "[May 13, 01:55:43] len(emb2pid) = 73699\n"
     ]
    },
    {
     "name": "stderr",
     "output_type": "stream",
     "text": [
      "\n",
      "100%|██████████| 4096/4096 [00:00<00:00, 128439.94it/s]"
     ]
    },
    {
     "name": "stdout",
     "output_type": "stream",
     "text": [
      "[May 13, 01:55:44] #> Saved optimized IVF to .ragatouille/colbert/indexes/EPL/ivf.pid.pt\n",
      "Successfully updated index with 483 new documents!\n",
      " New index size: 574\n"
     ]
    },
    {
     "name": "stderr",
     "output_type": "stream",
     "text": [
      "\n"
     ]
    }
   ],
   "source": [
    "RAG.add_to_index(other_docs)"
   ]
  },
  {
   "cell_type": "markdown",
   "metadata": {},
   "source": [
    "### Retrieving documents"
   ]
  },
  {
   "cell_type": "code",
   "execution_count": 7,
   "metadata": {},
   "outputs": [
    {
     "name": "stdout",
     "output_type": "stream",
     "text": [
      "Loading searcher for index EPL for the first time... This may take a few seconds\n",
      "[May 13, 01:56:26] #> Loading codec...\n",
      "[May 13, 01:56:26] #> Loading IVF...\n",
      "[May 13, 01:56:26] #> Loading doclens...\n"
     ]
    },
    {
     "name": "stderr",
     "output_type": "stream",
     "text": [
      "100%|██████████| 1/1 [00:00<00:00, 5461.33it/s]"
     ]
    },
    {
     "name": "stdout",
     "output_type": "stream",
     "text": [
      "[May 13, 01:56:26] #> Loading codes and residuals...\n"
     ]
    },
    {
     "name": "stderr",
     "output_type": "stream",
     "text": [
      "\n",
      "100%|██████████| 1/1 [00:00<00:00, 50.49it/s]"
     ]
    },
    {
     "name": "stdout",
     "output_type": "stream",
     "text": [
      "Searcher loaded!\n",
      "\n",
      "#> QueryTokenizer.tensorize(batch_text[0], batch_background[0], bsize) ==\n",
      "#> Input: . When was Manchester United formed?, \t\t True, \t\t None\n",
      "#> Output IDs: torch.Size([32]), tensor([ 101,    1, 2043, 2001, 5087, 2142, 2719, 1029,  102,  103,  103,  103,\n",
      "         103,  103,  103,  103,  103,  103,  103,  103,  103,  103,  103,  103,\n",
      "         103,  103,  103,  103,  103,  103,  103,  103])\n",
      "#> Output Mask: torch.Size([32]), tensor([1, 1, 1, 1, 1, 1, 1, 1, 1, 0, 0, 0, 0, 0, 0, 0, 0, 0, 0, 0, 0, 0, 0, 0,\n",
      "        0, 0, 0, 0, 0, 0, 0, 0])\n",
      "\n"
     ]
    },
    {
     "name": "stderr",
     "output_type": "stream",
     "text": [
      "\n"
     ]
    }
   ],
   "source": [
    "k = 3\n",
    "results = RAG.search(query=\"When was Manchester United formed?\")"
   ]
  },
  {
   "cell_type": "code",
   "execution_count": 8,
   "metadata": {},
   "outputs": [
    {
     "data": {
      "text/plain": [
       "[{'content': \"From 2012, some shares of the club were listed on the New York Stock Exchange, although the Glazer family retains overall ownership and control of the club.\\n\\n\\n== History ==\\n\\n\\n=== Early years (1878–1945) ===\\n\\nManchester United was formed in 1878 as Newton Heath LYR Football Club by the Carriage and Wagon department of the Lancashire and Yorkshire Railway (LYR) depot at Newton Heath. The team initially played games against other departments and railway companies, but on 20 November 1880, they competed in their first recorded match; wearing the colours of the railway company – green and gold – they were defeated 6–0 by Bolton Wanderers' reserve team. By 1888, the club had become a founding member of The Combination, a regional football league.\",\n",
       "  'score': 27.248620986938477,\n",
       "  'rank': 1,\n",
       "  'document_id': 'EPL',\n",
       "  'passage_id': 4,\n",
       "  'document_metadata': {'entity': 'organization', 'source': 'wikipedia'}},\n",
       " {'content': \"In January 1902, with debts of £2,670 – equivalent to £370,000 in 2024 – the club was served with a winding-up order. Captain Harry Stafford found four local businessmen, including John Henry Davies (who became club president), each willing to invest £500 in return for a direct interest in running the club and who subsequently changed the name; on 24 April 1902, Manchester United was officially born. Under Ernest Mangnall, who assumed managerial duties in 1903, the team finished as Second Division runners-up in 1906 and secured promotion to the First Division, which they won in 1908 – the club's first league title. The following season began with victory in the first ever Charity Shield and ended with the club's first FA Cup title.\",\n",
       "  'score': 25.228622436523438,\n",
       "  'rank': 2,\n",
       "  'document_id': 'EPL',\n",
       "  'passage_id': 6,\n",
       "  'document_metadata': {'entity': 'organization', 'source': 'wikipedia'}},\n",
       " {'content': 'Manchester United Football Club (commonly referred to as Manchester United, often stylised as Man Utd, or simply United) is a professional football club based in Old Trafford, Greater Manchester, England. The club competes in the Premier League, the top division in the English football league system. Nicknamed the Red Devils, they were founded as Newton Heath LYR Football Club in 1878, but changed their name to Manchester United in 1902. After a spell playing in Clayton, Manchester, the club moved to their current stadium, Old Trafford, in 1910.\\nDomestically, Manchester United have won a record 20 top-flight league titles, 12 FA Cups, 6 League Cups and a record 21 FA Community Shields.',\n",
       "  'score': 25.202621459960938,\n",
       "  'rank': 3,\n",
       "  'document_id': 'EPL',\n",
       "  'passage_id': 0,\n",
       "  'document_metadata': {'entity': 'organization', 'source': 'wikipedia'}},\n",
       " {'content': \"In 1989, chairman Martin Edwards attempted to sell the club to Michael Knighton for £20 million, but the sale fell through and Knighton joined the board of directors instead.\\nManchester United was floated on the stock market in June 1991 (raising £6.7 million), and received yet another takeover bid in 1998, this time from Rupert Murdoch's British Sky Broadcasting Corporation. This resulted in the formation of Shareholders United Against Murdoch – now the Manchester United Supporters' Trust – who encouraged supporters to buy shares in the club in an attempt to block any hostile takeover. The Manchester United board accepted a £623 million offer, but the takeover was blocked by the Monopolies and Mergers Commission at the final hurdle in April 1999.\",\n",
       "  'score': 24.472352981567383,\n",
       "  'rank': 4,\n",
       "  'document_id': 'EPL',\n",
       "  'passage_id': 68,\n",
       "  'document_metadata': {'entity': 'organization', 'source': 'wikipedia'}},\n",
       " {'content': \"On 18 April 2021, Manchester United announced they were joining 11 other European clubs as founding members of the European Super League, a proposed 20-team competition intended to rival the UEFA Champions League. The announcement drew a significant backlash from supporters, other clubs, media partners, sponsors, players and the UK Government, forcing the club to withdraw just two days later. The failure of the project led to the resignation of executive vice-chairman Ed Woodward, while resultant protests against Woodward and the Glazer family led to a pitch invasion ahead of a league match against Liverpool on 2 May 2021, which saw the first postponement of a Premier League game due to supporter protests in the competition's history.\",\n",
       "  'score': 23.165847778320312,\n",
       "  'rank': 5,\n",
       "  'document_id': 'EPL',\n",
       "  'passage_id': 29,\n",
       "  'document_metadata': {'entity': 'organization', 'source': 'wikipedia'}},\n",
       " {'content': 'In 1952, the club won the First Division, its first league title for 41 years. They then won back-to-back league titles in 1956 and 1957; the squad, who had an average age of 22, were nicknamed \"the Busby Babes\" by the media, a testament to Busby\\'s faith in his youth players. In 1957, Manchester United became the first English team to compete in the European Cup, despite objections from The Football League, who had denied Chelsea the same opportunity the previous season. En route to the semi-final, which they lost to Real Madrid, the team recorded a 10–0 victory over Belgian champions Anderlecht, which remains the club\\'s biggest victory on record.',\n",
       "  'score': 22.94399642944336,\n",
       "  'rank': 6,\n",
       "  'document_id': 'EPL',\n",
       "  'passage_id': 10,\n",
       "  'document_metadata': {'entity': 'organization', 'source': 'wikipedia'}},\n",
       " {'content': \"Relegated again in 1931, Manchester United became a yo-yo club, achieving its all-time lowest position of 20th place in the Second Division in 1934. Following the death of principal benefactor John Henry Davies in October 1927, the club's finances deteriorated to the extent that Manchester United would likely have gone bankrupt had it not been for James W. Gibson, who, in December 1931, invested £2,000 and assumed control of the club. In the 1938–39 season, the last year of football before the Second World War, the club finished 14th in the First Division.\",\n",
       "  'score': 22.845190048217773,\n",
       "  'rank': 7,\n",
       "  'document_id': 'EPL',\n",
       "  'passage_id': 8,\n",
       "  'document_metadata': {'entity': 'organization', 'source': 'wikipedia'}},\n",
       " {'content': 'The following season, they finished second in the league, then won the title in 1965 and 1967. In 1968, Manchester United became the first English club to win the European Cup, beating Benfica 4–1 in the final with a team that contained three European Footballers of the Year: Bobby Charlton, Denis Law and George Best. They then represented Europe in the 1968 Intercontinental Cup against Estudiantes of Argentina, but defeat in the first leg in Buenos Aires meant a 1–1 draw at Old Trafford three weeks later was not enough to claim the title. Busby resigned as manager in 1969 before being replaced by the reserve team coach, former Manchester United player Wilf McGuinness.',\n",
       "  'score': 22.496604919433594,\n",
       "  'rank': 8,\n",
       "  'document_id': 'EPL',\n",
       "  'passage_id': 13,\n",
       "  'document_metadata': {'entity': 'organization', 'source': 'wikipedia'}},\n",
       " {'content': '== Manchester United Women ==\\n\\nA team called Manchester United Supporters Club Ladies began operations in the late 1970s and was unofficially recognised as the club\\'s senior women\\'s team. They became founding members of the North West Women\\'s Regional Football League in 1989. The team made an official partnership with Manchester United in 2001, becoming the club\\'s official women\\'s team; however, in 2005, following Malcolm Glazer\\'s takeover, the club was disbanded as it was seen to be \"unprofitable\". In 2018, Manchester United formed a new women\\'s football team, which entered the second division of women\\'s football in England for their debut season. 2023 will see that team enter European competition for the first time.\\n\\n\\n== Notes ==\\n\\n\\n== References ==\\n\\n\\n== Further reading ==\\nAndrews, David L., ed.',\n",
       "  'score': 22.45117950439453,\n",
       "  'rank': 9,\n",
       "  'document_id': 'EPL',\n",
       "  'passage_id': 83,\n",
       "  'document_metadata': {'entity': 'organization', 'source': 'wikipedia'}},\n",
       " {'content': \"The following season began with victory in the first ever Charity Shield and ended with the club's first FA Cup title. Manchester United won the First Division for the second time in 1911, but at the end of the following season, Mangnall left the club to join Manchester City.\\nIn 1922, three years after the resumption of football following the First World War, the club was relegated to the Second Division, where it remained until regaining promotion in 1925. Relegated again in 1931, Manchester United became a yo-yo club, achieving its all-time lowest position of 20th place in the Second Division in 1934.\",\n",
       "  'score': 22.36526870727539,\n",
       "  'rank': 10,\n",
       "  'document_id': 'EPL',\n",
       "  'passage_id': 7,\n",
       "  'document_metadata': {'entity': 'organization', 'source': 'wikipedia'}}]"
      ]
     },
     "execution_count": 8,
     "metadata": {},
     "output_type": "execute_result"
    }
   ],
   "source": [
    "results"
   ]
  },
  {
   "cell_type": "code",
   "execution_count": null,
   "metadata": {},
   "outputs": [],
   "source": []
  }
 ],
 "metadata": {
  "kernelspec": {
   "display_name": "dspy",
   "language": "python",
   "name": "python3"
  },
  "language_info": {
   "codemirror_mode": {
    "name": "ipython",
    "version": 3
   },
   "file_extension": ".py",
   "mimetype": "text/x-python",
   "name": "python",
   "nbconvert_exporter": "python",
   "pygments_lexer": "ipython3",
   "version": "3.9.19"
  }
 },
 "nbformat": 4,
 "nbformat_minor": 2
}
